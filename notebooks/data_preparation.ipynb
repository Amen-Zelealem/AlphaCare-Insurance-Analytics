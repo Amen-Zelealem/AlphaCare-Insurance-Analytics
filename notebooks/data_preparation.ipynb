{
 "cells": [
  {
   "cell_type": "markdown",
   "metadata": {},
   "source": [
    "# Data Preparation"
   ]
  },
  {
   "cell_type": "code",
   "execution_count": 1,
   "metadata": {},
   "outputs": [],
   "source": [
    "# Import necessary libraries\n",
    "import pandas as pd  # For data manipulation and analysis\n",
    "import numpy as np   # For numerical operations\n",
    "import seaborn as sns  # For statistical data visualization\n",
    "import matplotlib.pyplot as plt  # For creating static, animated, and interactive visualizations\n",
    "import scipy.stats as stats  # For statistical functions"
   ]
  },
  {
   "cell_type": "code",
   "execution_count": 2,
   "metadata": {},
   "outputs": [],
   "source": [
    "# Import feature selection and preprocessing modules from scikit-learn\n",
    "from sklearn.feature_selection import SelectKBest, f_classif  # For selecting the best features based on ANOVA F-statistic\n",
    "from sklearn.decomposition import PCA  # For dimensionality reduction using Principal Component Analysis\n",
    "from sklearn.preprocessing import StandardScaler  # For standardizing features by removing the mean and scaling to unit variance\n",
    "from sklearn.preprocessing import OneHotEncoder  # For converting categorical variables into a form that can be provided to ML algorithms\n",
    "from sklearn.preprocessing import LabelEncoder  # For encoding target labels with a value between 0 and n_classes-1\n",
    "from sklearn.preprocessing import OrdinalEncoder  # For encoding ordinal categorical features with integer values"
   ]
  },
  {
   "cell_type": "code",
   "execution_count": 13,
   "metadata": {},
   "outputs": [],
   "source": [
    "import os  # For interacting with the operating system\n",
    "import sys  # For system-specific parameters and functions\n",
    "\n",
    "# Add the 'scripts' directory to the Python path for module imports\n",
    "sys.path.append(os.path.abspath(os.path.join('..', 'scripts')))"
   ]
  },
  {
   "cell_type": "code",
   "execution_count": null,
   "metadata": {},
   "outputs": [],
   "source": [
    "pd.set_option('display.max_columns', 200)  # Maximum columns to display\n",
    "pd.set_option('display.max_rows', 200)     # Maximum rows to display"
   ]
  }
 ],
 "metadata": {
  "kernelspec": {
   "display_name": "alpha_insurance_env",
   "language": "python",
   "name": "python3"
  },
  "language_info": {
   "codemirror_mode": {
    "name": "ipython",
    "version": 3
   },
   "file_extension": ".py",
   "mimetype": "text/x-python",
   "name": "python",
   "nbconvert_exporter": "python",
   "pygments_lexer": "ipython3",
   "version": "3.12.8"
  }
 },
 "nbformat": 4,
 "nbformat_minor": 2
}
