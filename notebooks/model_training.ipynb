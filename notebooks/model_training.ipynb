{
 "cells": [
  {
   "cell_type": "markdown",
   "metadata": {},
   "source": [
    "## Model Training and Evaluation\n",
    "\n",
    "After preprocessing the data and saving it to a CSV file, the next step is to build and evaluate various machine learning models. This section outlines the approach for model training, evaluation, and feature importance analysis, ensuring we achieve the best model for predicting insurance claims.\n",
    "\n",
    "### Objectives\n",
    "The main objectives of this report are to:\n",
    "- Document the complete process of training, evaluating, and interpreting machine learning models for predicting car insurance claims.\n",
    "- Utilize the preprocessed dataset to train various models.\n",
    "- Evaluate each model based on relevant metrics to identify the best-performing one.\n",
    "- Conduct SHAP (SHapley Additive exPlanations) analysis to explain feature importance and model predictions.\n",
    "\n",
    "### Model Training Approach\n",
    "1. **Data Preparation**: Load the preprocessed dataset and split it into training and testing sets.\n",
    "2. **Model Selection**: Choose various machine learning algorithms (e.g., Linear Regression, Random Forest, Gradient Boosting).\n",
    "3. **Training**: Fit the models on the training set.\n",
    "4. **Evaluation**: Assess model performance using metrics such as MAE, RMSE, R², and accuracy.\n",
    "5. **Feature Importance**: Use SHAP analysis to interpret model outputs and understand the impact of different features on predictions.\n",
    "\n",
    "### Conclusion\n",
    "This comprehensive approach ensures that we not only find the most effective model for predicting insurance claims but also understand the underlying factors that influence these predictions."
   ]
  },
  {
   "cell_type": "code",
   "execution_count": 17,
   "metadata": {},
   "outputs": [],
   "source": [
    "# Import necessary libraries\n",
    "import pandas as pd\n",
    "import matplotlib.pyplot as plt\n",
    "import seaborn as sns\n",
    "from sklearn.model_selection import train_test_split\n",
    "from sklearn.linear_model import LinearRegression\n",
    "from sklearn.metrics import mean_squared_error, r2_score\n",
    "from sklearn.tree import DecisionTreeRegressor\n",
    "from sklearn.ensemble import RandomForestRegressor\n",
    "import xgboost as xgb  # Ensure XGBoost is installed for advanced gradient boosting\n",
    "import os\n",
    "import sys"
   ]
  },
  {
   "cell_type": "code",
   "execution_count": 18,
   "metadata": {},
   "outputs": [],
   "source": [
    "# Add the 'scripts' directory to the Python path for module imports\n",
    "sys.path.append(os.path.abspath(os.path.join('..', 'scripts')))"
   ]
  },
  {
   "cell_type": "code",
   "execution_count": 19,
   "metadata": {},
   "outputs": [],
   "source": [
    "# Set options for pandas to display more columns and rows\n",
    "pd.set_option('display.max_columns', 200)\n",
    "pd.set_option('display.max_rows', 200)"
   ]
  },
  {
   "cell_type": "code",
   "execution_count": 20,
   "metadata": {},
   "outputs": [],
   "source": [
    "# Suppress warnings for cleaner output\n",
    "import warnings\n",
    "warnings.filterwarnings(\"ignore\", message=\"\")"
   ]
  },
  {
   "cell_type": "code",
   "execution_count": 21,
   "metadata": {},
   "outputs": [
    {
     "name": "stdout",
     "output_type": "stream",
     "text": [
      "Data loaded successfully.\n"
     ]
    }
   ],
   "source": [
    "# Load the preprocessed data from CSV file\n",
    "df = pd.read_csv('../data/preprocessed_data.csv')\n",
    "print(\"Data loaded successfully.\")"
   ]
  }
 ],
 "metadata": {
  "kernelspec": {
   "display_name": "alpha_insurance_env",
   "language": "python",
   "name": "python3"
  },
  "language_info": {
   "codemirror_mode": {
    "name": "ipython",
    "version": 3
   },
   "file_extension": ".py",
   "mimetype": "text/x-python",
   "name": "python",
   "nbconvert_exporter": "python",
   "pygments_lexer": "ipython3",
   "version": "3.12.8"
  }
 },
 "nbformat": 4,
 "nbformat_minor": 2
}
